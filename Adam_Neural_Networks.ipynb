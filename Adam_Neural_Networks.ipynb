{
 "cells": [
  {
   "cell_type": "markdown",
   "metadata": {},
   "source": [
    "<div style=\"font-size:22pt; line-height:25pt; font-weight:bold; text-align:center;\">NEURAL NETWORK OPTIMISATION: ADAM & MORE\n",
    "\n"
   ]
  },
  {
   "cell_type": "markdown",
   "metadata": {},
   "source": [
    "Author: Raphael Mikati, MSc General Engineering - ISAE Supaero (France) & MSc Management and Strategy - London School of Economics"
   ]
  },
  {
   "cell_type": "markdown",
   "metadata": {},
   "source": [
    "# Contents\n",
    "Introduction "
   ]
  },
  {
   "cell_type": "markdown",
   "metadata": {},
   "source": [
    "1. [Pre-requisite & preliminary elements](#sec1)\n",
    "    1. [Why do you need optimisation algorithms in neural networks?](#sec1-1)\n",
    "    2. [Gradient descent, learning rate, Adagrad and RMSProp](#sec1-2)\n",
    "    3. [What is a \"moment\"?](#sec1-3)\n",
    "2. [How does ADAM work?](#sec2)\n",
    "    1. [Motivation & idea](#sec2-1)\n",
    "    2. [The ADAM procedure](#sec2-2)\n",
    "    3. [Description of the algorithm](#sec2-3)\n",
    "3. [Python implementation & simulations](#sec3)\n",
    "4. [Advantages & convergence issues](#sec4)\n",
    "    1. [General remarks about ADAM's strenghts and weaknesses](#sec4-1)\n",
    "    2. [On ADAM's convergence issues](#sec4-2)\n",
    "5. [A few words on ADAMAX](#sec5)\n"
   ]
  },
  {
   "cell_type": "markdown",
   "metadata": {},
   "source": [
    "Conclusion\n",
    "\n",
    "References"
   ]
  },
  {
   "cell_type": "markdown",
   "metadata": {},
   "source": [
    "## INTRODUCTION "
   ]
  },
  {
   "cell_type": "markdown",
   "metadata": {},
   "source": [
    "ADAM is an optimisation algorithm specifically tailored for training deep neural networks. It was first published in 2014 (Kingma and Lei Ba (2014)) and presented at the ICLR 2015 conference for deep learning practitioners. Numerous are the optimisation algorithms that work well in few problems but fail to generalise properly to the wide range of neural networks you might want to train. Indeed, the choice of the optimisation algorithm for your deep learning model can mean the difference between good results in minutes, hours, and days. \n",
    "\n",
    "The name ADAM is derived from \"Adaptive Moment Estimation\". We'll see later on how the mathematical concept of moment comes into play.\n",
    "\n",
    "\n",
    "\n",
    "\n",
    "\n"
   ]
  },
  {
   "cell_type": "markdown",
   "metadata": {},
   "source": [
    "## <a id=\"sec1\"></a> 1. PREREQUISITES & PRELIMINARY ELEMENTS\n",
    "\n",
    "Before we start off, let us make a quick recap of some useful and essential elements to understand the ADAM algorithm."
   ]
  },
  {
   "cell_type": "markdown",
   "metadata": {},
   "source": [
    "### <a id=\"sec1-1\"></a> 1.1. Why do you need optimisation algorithms in neural networks? \n",
    "Remember that when building neural networks, we need to minimise a certain loss function so as to learn the weights of our network. The algorithms that are most used for this purpose are part of the gradient descent family."
   ]
  },
  {
   "cell_type": "markdown",
   "metadata": {},
   "source": [
    "### <a id=\"sec1-2\"></a>1.2. Gradient descent optimisation, learning rates and RMSProp, AdaGrad\n",
    "\n",
    "The gradient descent family is one of the most popular categories of algorithms to perform optimisation tasks and by far the most common one in deep learning.\n",
    "\n",
    "In a nutshell, gradient descent algorithms allow you to minimise an objective function $J(\\theta)$, parametrised by a vector of parameters $\\theta \\in \\mathbf{R}^d$. It updates the parameter in the opposite direction of the gradient of the objective function $\\nabla_\\theta J(\\theta)$ with respect to the parameters.\n",
    "\n",
    "The **learning rate**, $\\alpha$, determines the size of the steps taken to reach a (local) minimum.\n",
    "\n",
    "There are three variants of gradient descent which differ in the number of data points used to calculate the $\\nabla_\\theta J(\\theta)$:\n",
    "\n",
    "- **Batch gradient descent:** it calculates $\\nabla_\\theta J(\\theta)$ for the entire training set:\n",
    "\n",
    "$$\\theta = \\theta - \\alpha \\nabla_\\theta J(\\theta) $$\n",
    "\n",
    "\n",
    "- **Stochastic gradient descent (SGD):** it performs a parameter update for each training example $x_i$ and label $y_i$:\n",
    "\n",
    "$$\\theta = \\theta - \\alpha \\nabla_\\theta J(\\theta; x_i; y_i) $$\n",
    "\n",
    "\n",
    "- **Mini-batch gradient descent:** it is a combination of the batch gradient descent and SGD since it performs an update for every mini-batch of n training data:\n",
    "\n",
    "$$\\theta = \\theta - \\alpha \\nabla_\\theta J(\\theta; x_{(i:i+n)}; y_{(i:i+n)}) $$\n",
    "\n",
    "\n",
    "Now, we need to have a basic understanding of two gradient descent algorithms: Adagrad and RMSProp. \n",
    "\n",
    "- **Adagrad:** Adagrad is an algorithm for gradient-based optimization that adapts the learning rate to the parameters, performing smaller updates (i.e. low learning rates) for parameters associated with frequently occurring features, and larger updates (i.e. high learning rates) for parameters associated with infrequent features. For this reason, it is well-suited for dealing with sparse data.\n",
    "\n",
    "\n",
    "- **RMSProp (Root Mean Square Propagation):** it was developed by Hinton and Tieleman (2012) and addresses the need to resolve Adagrad's radically diminishing learning rates. So as to understand this need, let us take an example in which we would like to optimise a cost function which has contours like below. The red dot denotes the position of the local minimum.\n",
    "\n",
    "<img src=\"rms1.png\" width=\"800px\"></img>\n",
    "\n",
    "We start our gradient descent from point ‘A’ and after one iteration we may end up at point ‘B’, the other side of the ellipse. Then another step of gradient descent may end up at point ‘C’. With each iteration of gradient descent, we move towards the local optima with up and down oscillations. If we use larger learning rate then the vertical oscillation will have higher magnitude. So, this vertical oscillation slows down our gradient descent and prevents us from using a much larger learning rate.\n",
    "\n",
    "<img src=\"rms2.png\" width=\"800px\"></img>\n",
    "\n",
    "Thus, we want to slow down the learning rate in the vertical direction and speed up (or at least not slow it down) in the horizontal direction. This is what the RMSProp procedure does. \n",
    "\n",
    "We'll dive into the mathematical formulation of the Adagrad and RMSProp procedures later on."
   ]
  },
  {
   "cell_type": "markdown",
   "metadata": {},
   "source": [
    "### <a id=\"sec1-3\"></a> 1.3. What is a \"moment\"?\n",
    "Mathematically, the n-th moment $m_n$ of a random variable X is defined as the expected value of that variable to the power of n:\n",
    "\n",
    "$$m_n = \\displaystyle \\mathbb{E}[X^n]$$\n",
    "\n",
    "We can now understand that the expectation of a given random variable represents its first moment. If we consider the random variables X and Z defined as follows:\n",
    "$$Z = X - \\mathbb{E}[X]$$\n",
    "We can see that the second moment of Z is the variance of X. "
   ]
  },
  {
   "cell_type": "markdown",
   "metadata": {},
   "source": [
    "## <a id=\"sec2\"></a> 2. HOW DOES ADAM WORK?\n",
    "### <a id=\"sec2-1\"></a> 2.1. Motivation & idea\n",
    "ADAM is an optimisation algorithm that can be used instead of the classical stochastic gradient descent (SGD) procedure to update the network weights in a given neural network. In concrete terms, it optimises stochastic objective functions. The classical SGD maintains a constant learning rate for all weight updates and the learning rate does not change during training. ADAM proposes to combine the advantages of Adagrad which works well with sparse gradients and RMSProp which maintains per-parameter learning rates that are adapted based on the average of recent magnitudes of the gradients for the weight (e.g. how quickly it is changing). This means the algorithm does well on online and non-stationary problems (e.g. noisy).\n",
    "\n",
    "**But what could a stochastic objective function be?** Stochastic function can be a functions composed of a sum of subfunctions evaluated at different subsamples of data or more generally noisy functions.\n",
    "\n",
    "\n",
    "### <a id=\"sec2-2\"></a> 2.2. The ADAM procedure\n",
    "Let us dive into the details of the ADAM algorithm.\n",
    "\n",
    "Let $f(\\theta)$ be a stochastic objective function. We assumed that it is differentiable with respect to its parameters $\\theta$. Let $g_{t,i} = \\nabla_\\theta f_{t}(\\theta_{t,i})$ denote the gradient of our objective function (i.e. the vector of partial derivatives of $f_t$ with respect to $\\theta_i$ evaluated at timestep t). We wish to minimise the expected value of the function f: $\\mathbb{E}[f(\\theta)]$ (which the first moment of the random variable or stochastic function f).\n",
    "\n",
    "\n",
    "First of all, we need to exhibit the parameters update rule of Adagrad and RMSProp. As we have previsouly seen, in a gradient descent scheme, parameters get updated.\n",
    "\n",
    "- **Adagrad's update rule:**\n",
    "\n",
    "$$\\theta_{t+1,i} = \\theta_{t,i} - \\frac{\\alpha}{\\sqrt{G_{t,ii} + \\epsilon}} g_{t,i} $$\n",
    "\n",
    "where $G_t \\in \\mathbf{R}^{dxd}$ is a diagonal matrix where each diagonal element is the sum of the squares of the gradients with respect to $\\theta_i$ up to time step t, while $\\epsilon$ is a smoothing term that avoids division by zero.\n",
    "\n",
    "\n",
    "\n",
    "- **RMSProp's update rule:**\n",
    "\n",
    "$$\\theta_{t+1} = \\theta_{t} - \\frac{\\alpha}{\\sqrt{\\mathbb{E}[g^{2}_{t}] + \\epsilon}} g_{t} $$\n",
    "\n",
    "with $\\mathbb{E}[g^{2}_{t}] = \\gamma \\mathbb{E}[g^{2}_{t-1}] + (1 - \\gamma)g_t$ (usually $\\gamma = 0.9$)\n",
    "\n",
    "$g_{t}$ is equal to $\\nabla \\theta f_{t}(\\theta_{t})$ and $\\mathbb{E}[g^{2}_{t}]$ is the second moment of the random variable g at timestep t. (g can be considered a random variable since it is the gradient of f, a stochastic function).\n",
    "\n",
    "\n",
    "\n",
    "- **ADAM's update rule:** \n",
    "\n",
    "Let us build the ADAM's update rule step by step. The idea of the procedure is to update the parameter $\\theta$ using the squared gradients ($g_{t}^{2}$ through $v_t$) to scale the learning rate ($\\alpha$) like RMSProp and making use of the exponential moving average of the gradient ($m_t$) instead of the gradient itself like Adagrad for instance. Some constants $\\beta_1$ and $\\beta_2$ are hyper-parameters used to control the exponential decay rates of $m_t$ and $v_t$. \n",
    "\n",
    "$$m_t = (1-\\beta_1) \\sum\\limits_{i=1}^t \\beta_{1}^{t-i} g_i$$\n",
    "$$v_t = (1-\\beta_2) \\sum\\limits_{i=1}^t \\beta_{2}^{t-i} g_{i}^{2}$$\n",
    "\n",
    "The algorithm updates $m_t$ and $v_t$ as it goes along using the following relations:\n",
    "$$m_{t+1} = \\beta_{1} m_{t} + (1 - \\beta_{1})g_t $$\n",
    "$$v_{t+1} = \\beta_{2} v_{t} + (1 - \\beta_{2})g^{2}_t $$\n",
    "\n",
    "So far, so good, isn't it? Well almost, there is a slight issue: $m_t$ and $v_t$ are estimators respectively of the gradient and the squared gradient. In the ADAM algorithm, we need to initialise their values. And as we do so by initialising these moving averages with zeros, this gives us biased estimators. Even so, we still want to manipulate unbiased estimators i.e. we wish the following properties to hold true:\n",
    "$$ \\mathbb{E}[m_{t}] = \\mathbb{E}[g_{t}]$$\n",
    "$$ \\mathbb{E}[v_{t}] = \\mathbb{E}[g^{2}_{t}]$$\n",
    "As we can see, the notion of \"moments\" comes into play (hence ADAM: Adaptive Moment Estimation)\n",
    "\n",
    "This is thus why, we need to correct the estimators $m_t$ and $v_t$ (bias corrections) to get $\\hat{m}_t$ and $\\hat{v}_t$, respectively the unbiased estimators of the gradient and the squared gradient ($\\beta_{i}^{t}$ denotes $\\beta_i$ to the power t).\n",
    "\n",
    "$$\\hat{m}_t = \\frac{m_t}{1-\\beta^{t}_1} $$\n",
    "$$\\hat{v}_t = \\frac{v_t}{1-\\beta^{t}_2} $$\n",
    "\n",
    "Thus, an initialisation of moving averages with zeros is compatible with getting unbiased estimators thanks to this bias correction trick. This proves very convenient in the algorithm.\n",
    "\n",
    "We can now exhibit the ADAM's update rule for the parameters:\n",
    "\n",
    "$$\\boxed{\\theta_{t+1} = \\theta_{t} - \\frac{\\alpha}{\\sqrt{\\hat{v}_{t}} + \\epsilon} \\hat{m}_{t}} $$\n",
    "\n",
    "\n",
    "\n",
    "\n",
    "\n",
    "### <a id=\"sec2-3\"></a> 2.3. Description of the algorithm\n",
    "\n",
    "<img src=\"adam.png\" width=\"800px\"></img>\n",
    "\n",
    "Kingma and Lei Ba (2014), the inventors of ADAM recommends to use the value 0.001 for $\\alpha$, 0.9 for $\\beta_1$, 0.999 for $\\beta_2$ and $10^{-8}$ for $\\epsilon$."
   ]
  },
  {
   "cell_type": "markdown",
   "metadata": {},
   "source": [
    "## <a id=\"sec3\"></a> 3. PYTHON IMPLEMENTATION & SIMULATIONS\n",
    "\n",
    "We propose a Python implementation of the algorithm. \n"
   ]
  },
  {
   "cell_type": "code",
   "execution_count": 2,
   "metadata": {},
   "outputs": [],
   "source": [
    "import math\n",
    "import numpy as np\n",
    "from scipy.stats import norm\n",
    "import matplotlib.pyplot as plt"
   ]
  },
  {
   "cell_type": "code",
   "execution_count": 67,
   "metadata": {},
   "outputs": [],
   "source": [
    "# Hyperparameters' settings\n",
    "alpha = 0.001\n",
    "beta_1 = 0.9\n",
    "beta_2 = 0.999\n",
    "epsilon = 1e-8"
   ]
  },
  {
   "cell_type": "code",
   "execution_count": 42,
   "metadata": {},
   "outputs": [
    {
     "data": {
      "image/png": "[encoded data removed]",
      "text/plain": [
       "<Figure size 432x288 with 1 Axes>"
      ]
     },
     "metadata": {
      "needs_background": "light"
     },
     "output_type": "display_data"
    }
   ],
   "source": [
    "# The objective function\n",
    "def objective_function (x):\n",
    "    return(x*x - 10*x + 4)\n",
    "\n",
    "# The gradient of the objective function under study\n",
    "def gradient_obj_func (x):\n",
    "    return(2*x - 10)\n",
    "\n",
    "# Let us plot the objective function\n",
    "x = np.linspace(-35,35,100)\n",
    "y = objective_function(x)\n",
    "plt.figure()\n",
    "plt.plot(x,y)\n",
    "plt.title('Our Objective Function')\n",
    "plt.show()"
   ]
  },
  {
   "cell_type": "markdown",
   "metadata": {},
   "source": [
    "The global minimum of this objective function is located at (x = 5, y = -21).\n",
    "\n",
    "Now, it's your turn: could you try to code a function implementing the ADAM algorithm. Give it a go! :)"
   ]
  },
  {
   "cell_type": "code",
   "execution_count": 47,
   "metadata": {},
   "outputs": [],
   "source": [
    "# The ADAM algorithm\n",
    "\n",
    "def ADAM (grad_func, alpha, beta_1, beta_2, epsilon): # grad_func denotes the gradient of our objective function\n",
    "    # Initialisation \n",
    "    theta_0 = 0\n",
    "    m_t = 0\n",
    "    v_t = 0\n",
    "    t = 0\n",
    "    theta_0_prev = -1.0 #arbitrary value just to initialise the variable\n",
    "    \n",
    "    # Diving into the ADAM procedure\n",
    "    while (theta_0 != theta_0_prev):\n",
    "        t+=1\n",
    "        g_t = grad_func(theta_0) # gradient calculation\n",
    "        m_t = beta_1*m_t + (1.0-beta_1)*g_t # 1st moment estimate\n",
    "        v_t = beta_2*v_t + (1.0-beta_2)*(g_t*g_t) # 2nd moment estimate\n",
    "        m_hat = m_t/(1.0-(beta_1**t)) # 1st moment bias correction\n",
    "        v_hat = v_t/(1.0-(beta_2**t)) # 2nd moment bias correction\n",
    "        theta_0_prev = theta_0\n",
    "        theta_0 = theta_0 - (alpha*m_hat)/(math.sqrt(v_hat)+epsilon) # update\n",
    "    return(theta_0)"
   ]
  },
  {
   "cell_type": "code",
   "execution_count": 48,
   "metadata": {},
   "outputs": [
    {
     "name": "stdout",
     "output_type": "stream",
     "text": [
      "4.999999999999979\n"
     ]
    }
   ],
   "source": [
    "print(ADAM (gradient_obj_func, alpha, beta_1, beta_2, epsilon))"
   ]
  },
  {
   "cell_type": "markdown",
   "metadata": {},
   "source": [
    "## <a id=\"sec4\"></a> 4. ADVANTAGES & CONVERGENCE ISSUES\n",
    "### <a id=\"sec4-1\"></a> 4.1. General remarks about ADAM's strenghts and weaknesses\n",
    "When introducing the algorithm, Kingma and Lei Ba (2014) list the attractive benefits of using Adam on non-convex optimization problems:\n",
    "\n",
    "- Straightforward to implement\n",
    "- Computationally efficient\n",
    "- Little memory requirements\n",
    "- Invariant to diagonal rescale of the gradients\n",
    "- Well suited for problems that are large in terms of data and/or parameters\n",
    "- Appropriate for non-stationary objectives\n",
    "- Appropriate for problems with very noisy/or sparse gradients\n",
    "- Hyper-parameters have intuitive interpretation and typically require little tuning\n",
    "\n",
    "\n",
    "Since the publication of Kingma and Lei Ba's paper (2014), some research has been done to assess ADAM's performance. It appears that in some areas, ADAM does not converge to an optimal solution (e.g. for image classification (CIFAR data set) or certain funtions, we'll see one of them later on) whereas SGD with momentum algorithms do (momentum is a method consisting of adding fractions of previous gradients to the current one). Furthermore, Keskar and Socher (2017) have shown that by switching to SGD during training, they have managed to get better generalisation power than when using ADAM alone. More generally, Keskar and Socher (2017) have found that in earlier stages of training ADAM outperforms SGD but later the learning saturates. They have thus proposed a fix called \"SWATS\" for that. It consists of starting training the neural network with ADAM and then switching to SGD after a certain threshold. \n",
    "\n",
    "\n",
    "### <a id=\"sec4-2\"></a> 4.2. On ADAM's convergence issues\n",
    "Reddi et al. (2018) have presented an example of function for which ADAM fails to converge:\n",
    "\n",
    "$$f_{t}(x) = \\begin{cases} rx, & \\mbox{for } t\\mbox{ mod 3 = 1} \\\\ -x, & \\mbox{otherwise } \\end{cases} $$\n",
    "\n",
    "with $r > 2$ and $x \\in [-1, 1]$\n",
    "\n",
    "The optimum of this function is $x = - 1$, however ADAM seems unstable and converges to the value $x = 1$ for certain values of its hyper-parameters. A classical implementation of a SGD algorithm leads to an optimum of $x = -1$.\n",
    "\n",
    "Let us see this with the following Python implementation:"
   ]
  },
  {
   "cell_type": "code",
   "execution_count": 4,
   "metadata": {},
   "outputs": [],
   "source": [
    "# Gradient of our objective function\n",
    "def gradient_f (x, t, r):\n",
    "    if t%3 == 1:\n",
    "        return (r)\n",
    "    else :\n",
    "        return(-1.0)\n",
    "\n",
    "# We are interested in values lying between [-1, 1]\n",
    "def projection (x):\n",
    "    if -1. <= x <= 1.:\n",
    "        return (x)\n",
    "    elif x <= -1.:\n",
    "        return (-1.0)\n",
    "    else:\n",
    "        return (1.0)        \n",
    "\n",
    "# Parameters of our objective function\n",
    "r = 10"
   ]
  },
  {
   "cell_type": "markdown",
   "metadata": {},
   "source": [
    "Let us define a simple SGD algorithm:"
   ]
  },
  {
   "cell_type": "code",
   "execution_count": 5,
   "metadata": {},
   "outputs": [],
   "source": [
    "def SGD(Niter, alpha): # alpha is the learning rate\n",
    "    x = 0 # initialisation of x\n",
    "    for t in range(Niter):\n",
    "        g_t = gradient_f(x, t, r)\n",
    "        x = projection(x-alpha*g_t)\n",
    "    return(x)"
   ]
  },
  {
   "cell_type": "markdown",
   "metadata": {},
   "source": [
    "Let us take $\\alpha = 0.001$ and see what a SGD algorithm finds:"
   ]
  },
  {
   "cell_type": "code",
   "execution_count": 6,
   "metadata": {},
   "outputs": [
    {
     "name": "stdout",
     "output_type": "stream",
     "text": [
      "-0.998\n"
     ]
    }
   ],
   "source": [
    "alpha = 0.001\n",
    "Niter = 10000\n",
    "\n",
    "print(SGD(Niter,alpha))"
   ]
  },
  {
   "cell_type": "markdown",
   "metadata": {},
   "source": [
    "So this implementation of the SGD algorithm converges towards the genuine minimum of our objective function. Let us see how ADAM performs if we use different hyper-parameters (different from the one tuned by Kingma and Lei Ba (2014)). We just need to tweak a little bit our ADAM algorithm coded previously to adapt to our objective function."
   ]
  },
  {
   "cell_type": "code",
   "execution_count": 11,
   "metadata": {},
   "outputs": [],
   "source": [
    "import math\n",
    "\n",
    "def ADAM_bis (grad_func, Niter, alpha, beta_1, beta_2, epsilon): # grad_func denotes the gradient of our objective function\n",
    "    # Initialisation \n",
    "    x = 0\n",
    "    m_t = 0\n",
    "    v_t = 0\n",
    "    v_hat = 0\n",
    "    t = 0\n",
    "    x_prev = -10. #arbitrary value just to initialise the variable\n",
    "    \n",
    "    # Diving into the ADAM procedure\n",
    "    for t in range(Niter):\n",
    "        t+=1\n",
    "        g_t = grad_func(x, t, r) # gradient calculation\n",
    "        m_t = beta_1*m_t + (1.0-beta_1)*g_t # 1st moment estimate\n",
    "        v_t = beta_2*v_t + (1.0-beta_2)*(g_t*g_t) # 2nd moment estimate\n",
    "        m_hat = m_t/(1.0-(beta_1**t)) # 1st moment bias correction\n",
    "        v_hat = v_t/(1.0-(beta_2**t)) # 2nd moment bias correction\n",
    "        x_prev = x\n",
    "        x = projection(x - (alpha*m_hat)/(math.sqrt(v_hat)+epsilon)) # update\n",
    "    return(x)"
   ]
  },
  {
   "cell_type": "code",
   "execution_count": 12,
   "metadata": {},
   "outputs": [
    {
     "name": "stdout",
     "output_type": "stream",
     "text": [
      "0.9989950631672736\n"
     ]
    }
   ],
   "source": [
    "# Setting up the hyperparameters\n",
    "beta_1 = 0.\n",
    "beta_2 = float(1/(1+r*r))\n",
    "epsilon = 1e-8\n",
    "\n",
    "# Testing ADAM on our example\n",
    "print(ADAM_bis(gradient_f, Niter, alpha, beta_1, beta_2, epsilon))"
   ]
  },
  {
   "cell_type": "markdown",
   "metadata": {},
   "source": [
    "The ADAM algorithm does not converges to -1 if we decide to choose values that are different from the ones tuned by Kingam and Lei Ba (2014). It roughly gives the value 1. We can explain such an outcome by noticing that the algorithm gets the large gradient r once every three steps while for the two other steps it observes the gradient −1, which moves the algorithm in the wrong direction. The large gradient r is unable to counteract this effect since it is scaled down by a factor of almost r for the given value of $\\beta_2$, and hence the algorithm converges to 1 rather than −1.\n",
    "\n",
    "\n",
    "\n",
    "\n",
    "\n",
    "**The AMSGRAD's trick:**\n",
    "\n",
    "To fix this convergence instability, Reddi et al. (2018) propose to tweak the bias correction for $v_t$. They suggest the following update:\n",
    "$$\\hat{v}_{t+1} = max (v_t, \\hat{v_t}) $$\n",
    "\n",
    "Reddi et al. (2018) takes the maximum instead of dividing $v_t$ by $1 - \\beta^{t}_2$ when updating the unbiased estimator $\\hat{v_t}$. The algorithm they have developed is called AMSGRAD.\n",
    "\n",
    "Let us implement it and test it to see how it compares to ADAM with the same hyperparameters."
   ]
  },
  {
   "cell_type": "code",
   "execution_count": 13,
   "metadata": {},
   "outputs": [],
   "source": [
    "def AMSGRAD (grad_func, Niter, alpha, beta_1, beta_2, epsilon): # grad_func denotes the gradient of our objective function\n",
    "    # Initialisation \n",
    "    x = 0\n",
    "    m_t = 0\n",
    "    v_t = 0\n",
    "    v_hat = 0\n",
    "    t = 0\n",
    "    x_prev = -10. #arbitrary value just to initialise the variable\n",
    "    \n",
    "    # Diving into the ADAM procedure\n",
    "    for t in range(Niter):\n",
    "        t+=1\n",
    "        g_t = grad_func(x, t, r) # gradient calculation\n",
    "        m_t = beta_1*m_t + (1.0-beta_1)*g_t # 1st moment estimate\n",
    "        v_t = beta_2*v_t + (1.0-beta_2)*(g_t*g_t) # 2nd moment estimate\n",
    "        m_hat = m_t/(1.0-(beta_1**t)) # 1st moment bias correction\n",
    "        v_hat = max(v_t, v_hat) # 2nd moment bias correction: THIS IS THE TRICK!!!!!\n",
    "        x_prev = x\n",
    "        x = projection(x - (alpha*m_hat)/(math.sqrt(v_hat)+epsilon)) # update\n",
    "    return(x)"
   ]
  },
  {
   "cell_type": "code",
   "execution_count": 14,
   "metadata": {},
   "outputs": [
    {
     "name": "stdout",
     "output_type": "stream",
     "text": [
      "-1.0\n"
     ]
    }
   ],
   "source": [
    "print(AMSGRAD(gradient_f, Niter, alpha, beta_1, beta_2, epsilon))"
   ]
  },
  {
   "cell_type": "markdown",
   "metadata": {},
   "source": [
    "Thus, AMSGRAD converges to the optimum without the need to modify the hyper-parameters!!!"
   ]
  },
  {
   "cell_type": "markdown",
   "metadata": {},
   "source": [
    "## <a id=\"sec5\"></a> 5. A FEW WORDS ON ADAMAX\n",
    "\n",
    "ADAMAX was introduced by Kingma and Lei Ba (2014) as an extension of ADAM and looks a little bit similar to AMSGRAD.\n",
    "\n",
    "Remember the ADAM's update rule:\n",
    "\n",
    "$$\\theta_{t+1} = \\theta_{t} - \\frac{\\alpha}{\\sqrt{\\hat{v}_{t}} + \\epsilon} \\hat{m}_{t} $$\n",
    "\n",
    "We can see that the gradients are scaled inversely proportionally to a $L^2$ norm of their individual current and past gradients (this is hidden in $\\hat{v_t}$ and $v_t = \\beta_{2} v_{t} + (1 - \\beta_{2})g^{2}_t$).\n",
    "\n",
    "So why not generalising the $L^2$ norm-based update rule to a $L^p$ one? \n",
    "\n",
    "At first sight, one could argue that such variants become numerically unstable for large p. However, in the special case of the infinity norm ($p\\rightarrow \\infty$), we get a stable algorithm.\n",
    "\n",
    "\n",
    "For the sake of clarity, we denote $u_t$ the infinity norm-constrained $v_t$:\n",
    "\n",
    "$$u_t = \\beta^{\\infty}_{2}u_{t-1} + (1 - \\beta^{\\infty}_{2})|g_{t}|^{\\infty} = max(\\beta_2 \\cdot u_{t-1};|g_{t}|) $$\n",
    "\n",
    "\n",
    "In concrete terms, what we are doing is merely replacing $\\sqrt{\\hat{v}_{t}} + \\epsilon$ by $u_t$. We can now derive the ADAMAX's update rule:\n",
    "\n",
    "$$\\boxed{\\theta_{t+1} = \\theta_{t} - \\frac{\\alpha}{u_t} \\hat{m}_{t}} $$\n",
    "\n",
    "By tweaking ADAM, we get the ADAMAX algorithm:\n",
    "\n",
    "<img src=\"adamax.png\" width=\"800px\"></img>\n",
    "\n",
    "Kingma et Lei Ba (2014) recommend to use the following parameters:\n",
    "$\\alpha = 0.002$, $\\beta_1 = 0.9$ and  $\\beta_2 = 0.999$.\n",
    "\n",
    "Your turn! Could you take your cue from the ADAM algorithm we coded earlier on and implement ADAMAX? Give it a try :)"
   ]
  },
  {
   "cell_type": "code",
   "execution_count": 19,
   "metadata": {},
   "outputs": [],
   "source": [
    "def ADAMAX (grad_func, alpha, beta_1, beta_2): # grad_func denotes the gradient of our objective function\n",
    "    # Initialisation \n",
    "    theta_0 = 0\n",
    "    m_t = 0\n",
    "    u_t = 0\n",
    "    t = 0\n",
    "    theta_0_prev = -1.0 #arbitrary value just to initialise the variable\n",
    "    \n",
    "    # Diving into the ADAM procedure\n",
    "    while (theta_0 != theta_0_prev):\n",
    "        t+=1\n",
    "        g_t = grad_func(theta_0) # gradient calculation\n",
    "        m_t = beta_1*m_t + (1.0-beta_1)*g_t # 1st moment estimate\n",
    "        m_hat = m_t/(1.0-(beta_1**t)) # 1st moment bias correction\n",
    "        u_t = max(u_t*beta_2, abs(g_t)) \n",
    "        theta_0_prev = theta_0\n",
    "        theta_0 = theta_0 - (alpha*m_hat)/u_t # update\n",
    "    return(theta_0)"
   ]
  },
  {
   "cell_type": "markdown",
   "metadata": {},
   "source": [
    "Let us make use of the recommended parameters"
   ]
  },
  {
   "cell_type": "code",
   "execution_count": 16,
   "metadata": {},
   "outputs": [],
   "source": [
    "alpha = 0.002\n",
    "beta_1 = 0.9\n",
    "beta_2 = 0.999"
   ]
  },
  {
   "cell_type": "markdown",
   "metadata": {},
   "source": [
    "We can now test ADAMAX on a function we have already implemented: $x^{2} - 10x +4$"
   ]
  },
  {
   "cell_type": "code",
   "execution_count": 18,
   "metadata": {},
   "outputs": [
    {
     "name": "stdout",
     "output_type": "stream",
     "text": [
      "4.999999999999994\n"
     ]
    }
   ],
   "source": [
    "# The gradient of the objective function under study\n",
    "def gradient_obj_func (x):\n",
    "    return(2*x - 10)\n",
    "\n",
    "\n",
    "print(ADAMAX (gradient_obj_func, alpha, beta_1, beta_2))"
   ]
  },
  {
   "cell_type": "markdown",
   "metadata": {},
   "source": [
    "We can also check whether ADAMAX works on the function for which ADAM fails. We need to make some slights changes to our ADAMAX algorithm to adapt to such a function."
   ]
  },
  {
   "cell_type": "code",
   "execution_count": 20,
   "metadata": {},
   "outputs": [],
   "source": [
    "def ADAMAX_bis (grad_func, Niter, alpha, beta_1, beta_): # grad_func denotes the gradient of our objective function\n",
    "    # Initialisation \n",
    "    x = 0\n",
    "    m_t = 0\n",
    "    u_t = 0\n",
    "    t = 0\n",
    "    x_prev = -10. #arbitrary value just to initialise the variable\n",
    "    \n",
    "    # Diving into the ADAM procedure\n",
    "    for t in range(Niter):\n",
    "        t+=1\n",
    "        g_t = grad_func(x, t, r) # gradient calculation\n",
    "        m_t = beta_1*m_t + (1.0-beta_1)*g_t # 1st moment estimate\n",
    "        m_hat = m_t/(1.0-(beta_1**t)) # 1st moment bias correction\n",
    "        v_hat = u_t = max(u_t*beta_2, abs(g_t))\n",
    "        x_prev = x\n",
    "        x = projection(x - - (alpha*m_hat)/u_t) # update\n",
    "    return(x)"
   ]
  },
  {
   "cell_type": "code",
   "execution_count": 21,
   "metadata": {},
   "outputs": [],
   "source": [
    "# Setting up the hyperparameters\n",
    "beta_1 = 0.\n",
    "beta_2 = float(1/(1+r*r))\n",
    "epsilon = 1e-8"
   ]
  },
  {
   "cell_type": "code",
   "execution_count": 22,
   "metadata": {},
   "outputs": [
    {
     "name": "stdout",
     "output_type": "stream",
     "text": [
      "-0.998\n"
     ]
    }
   ],
   "source": [
    "print(ADAMAX_bis(gradient_f, Niter, alpha, beta_1, beta_2))"
   ]
  },
  {
   "cell_type": "markdown",
   "metadata": {},
   "source": [
    "Even when we use parameters that are different from the recommended ones, ADAMAX does work whereas ADAM does not!!!"
   ]
  },
  {
   "cell_type": "markdown",
   "metadata": {},
   "source": [
    "## CONCLUSION\n",
    "\n",
    "In this notebook, we have discovered ADAM, a recent optimisation algorithm that can prove useful when training neural networks (i.e. learning the weights of the network).\n",
    "\n",
    "The key takeaways are:\n",
    "\n",
    "- ADAM combines the advantages of Adagrad and RMSProp, two other optimisation procedures\n",
    "- ADAM is appropriate to problems with large datasets, sparse gradients and/or noisy functions.\n",
    "- ADAM can be used online\n",
    "- ... however if you change the recommended hyper-parameters, ADAM fails to converge for some functions. This can be fixed by tweaking the ADAM's update rule (AMSGRAD, ADAMAX) "
   ]
  },
  {
   "cell_type": "markdown",
   "metadata": {},
   "source": [
    "<div style=\"font-size:16pt; line-height:19pt; font-weight:bold; text-align:center;\">Hope you've learnt some new stuffs! Thank you for reading :)"
   ]
  },
  {
   "cell_type": "markdown",
   "metadata": {},
   "source": [
    "## REFERENCES"
   ]
  },
  {
   "cell_type": "markdown",
   "metadata": {},
   "source": [
    "[Diederik P. Kingma and Jimmy Lei Ba. Adam : A method for stochastic optimization. 2014. arXiv:1412.6980v9](https://arxiv.org/abs/1412.6980)\n",
    "\n",
    "\n",
    "[John Duchi, Elad Hazan, and Yoram Singer. Adaptive Subgradient Methods for Online Learning and Stochastic Optimization. Journal of Machine Learning Research, 12:2121–2159, 2011.](http://www.jmlr.org/papers/volume12/duchi11a/duchi11a.pdf)\n",
    "\n",
    "\n",
    "\n",
    "[Tijmen Tieleman and Geoffrey Hinton. Lecture 6.5-rmsprop: Divide the gradient by a running average of its recent magnitude. COURSERA- neural networks for machine learning, 4(2), 26–31, 2012.](https://www.cs.toronto.edu/~tijmen/csc321/slides/lecture_slides_lec6.pdf)\n",
    "\n",
    "\n",
    "\n",
    "[Nitish Shirish Keskar, Richard Socher. Improving Generalization Performance by Switching from Adam to SGD. 2017 arXiv:1712.07628v1](https://arxiv.org/abs/1712.07628)\n",
    "\n",
    "\n",
    "[Sashank J. Reddi, Satyen Kale, Sanjiv Kumar. On the Convergence of Adam and Beyond. 2018.](https://openreview.net/forum?id=ryQu7f-RZ)\n"
   ]
  }
 ],
 "metadata": {
  "kernelspec": {
   "display_name": "Python 3",
   "language": "python",
   "name": "python3"
  },
  "language_info": {
   "codemirror_mode": {
    "name": "ipython",
    "version": 3
   },
   "file_extension": ".py",
   "mimetype": "text/x-python",
   "name": "python",
   "nbconvert_exporter": "python",
   "pygments_lexer": "ipython3",
   "version": "3.7.0"
  }
 },
 "nbformat": 4,
 "nbformat_minor": 2
}
